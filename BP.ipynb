{
 "cells": [
  {
   "cell_type": "code",
   "execution_count": 3,
   "metadata": {},
   "outputs": [],
   "source": [
    "import matplotlib.pyplot as plt\n",
    "import numpy as np\n",
    "\n",
    "\n",
    "class ANN():\n",
    "    \n",
    "    def __init__(self, layers, eta):\n",
    "        self.layers = layers\n",
    "        self.eta = eta\n",
    "\n",
    "    def f(self,x):\n",
    "      return 1 / (1 + np.exp(-x))\n",
    "\n",
    "    def f_deriv(self,x):\n",
    "      return f(x) * (1 - f(x))\n",
    "\n",
    "    def feed_forward(self,x,w,b):\n",
    "      h = {1:x}\n",
    "      z = {}\n",
    "      for l in range(1,len(w)+1):\n",
    "        if l == 1:\n",
    "          node_in = x\n",
    "        else:\n",
    "          node_in = h[l]\n",
    "        z[l+1] = W[l].dot(node_in) + b[l]\n",
    "        h[l+1] =  f(z[l+1])\n",
    "      return h, z\n",
    "\n",
    "    def init_tri_values(self,nn_structure):\n",
    "      tri_W = {}\n",
    "      tri_b = {}\n",
    "      for l in range(1,len(nn_structure)):\n",
    "        tri_W[l] = np.zeros((nn_structure[l], nn_structure[l-1]))\n",
    "        tri_b[l] = np.zeros((nn_structure[l],))\n",
    "      return tri_W, tri_b\n",
    "\n",
    "\n",
    "    def calculate_out_layer_delta(self,y,h_out,z_out):\n",
    "      return -(y-h_out)*f_deriv(z_out)\n",
    "\n",
    "\n",
    "    def calculate_hidden_delta(self,delta_plus_1,w_l,z_l):\n",
    "      return np.dot(np.transpose(w_l),delta_plus_1) * f_deriv(z_l)\n",
    "\n",
    "\n",
    "    def train_nn(self,nn_structure, X, y, W, b ,iter_num= 10000, alpha=0.05):\n",
    "      cnt = 0\n",
    "      m = len(y)\n",
    "      avg_cost_func = []\n",
    "      print('Start gradient descent for {} iterations'.format(iter_num))\n",
    "      while cnt < iter_num:\n",
    "        if cnt%1000 == 0:\n",
    "          print('Iteration {} of {}'.format(cnt, iter_num))\n",
    "        tri_W, tri_b = init_tri_values(nn_structure)\n",
    "        avg_cost = 0\n",
    "        for i in range(len(y)):\n",
    "          delta = {}\n",
    "          h, z = feed_forward(X[i, :], W, b)\n",
    "          for l in range(len(nn_structure), 0, -1):\n",
    "            if l == len(nn_structure):\n",
    "              delta[l] = calculate_out_layer_delta(y[i, :], h[l], z[l])\n",
    "              avg_cost += np.linalg.norm((y[i,:]-h[l]))\n",
    "            else:\n",
    "              if l > 1:\n",
    "                delta[l] = calculate_hidden_delta(delta[l+1], W[l], z[l])\n",
    "              tri_W[l] += np.dot(delta[l+1][:,np.newaxis], np.transpose(h[l][:,np.newaxis]))\n",
    "              tri_b[l] += delta[l+1]\n",
    "        for l in range(len(nn_structure) - 1, 0, -1):\n",
    "          W[l] += -alpha * (1.0/m * tri_W[l])\n",
    "          b[l] += -alpha * (1.0/m * tri_b[l])\n",
    "        avg_cost = 1.0/m * avg_cost\n",
    "        avg_cost_func.append(avg_cost)\n",
    "        cnt += 1\n",
    "      return W, b, avg_cost_func"
   ]
  },
  {
   "cell_type": "code",
   "execution_count": 2,
   "metadata": {},
   "outputs": [],
   "source": [
    "model = ANN(3, .5)"
   ]
  },
  {
   "cell_type": "code",
   "execution_count": 100,
   "metadata": {},
   "outputs": [],
   "source": [
    "w1 = np.array([[.15, .2], [.25, .3]])\n",
    "w2 = np.array([[.4, .45], [.5, .55]])\n",
    "b1 = np.array([.35, .35])\n",
    "b2 = np.array([.6, .6])\n",
    "\n",
    "W = {1:w1, 2:w2}\n",
    "b = {1:b1, 2:b2}\n",
    "\n",
    "x = np.array([[.05, .1]])\n",
    "y = np.array([[.01, .99]])\n",
    "\n",
    "nn_structure = [2,2,2]"
   ]
  },
  {
   "cell_type": "code",
   "execution_count": 110,
   "metadata": {},
   "outputs": [
    {
     "name": "stdout",
     "output_type": "stream",
     "text": [
      "Start gradient descent for 10000 iterations\n",
      "Iteration 0 of 10000\n",
      "Iteration 1000 of 10000\n",
      "Iteration 2000 of 10000\n",
      "Iteration 3000 of 10000\n",
      "Iteration 4000 of 10000\n",
      "Iteration 5000 of 10000\n",
      "Iteration 6000 of 10000\n",
      "Iteration 7000 of 10000\n",
      "Iteration 8000 of 10000\n",
      "Iteration 9000 of 10000\n"
     ]
    }
   ],
   "source": [
    "W, b, avg_cost_func = train_nn(nn_structure, x, y, W, b)"
   ]
  },
  {
   "cell_type": "code",
   "execution_count": 75,
   "metadata": {
    "scrolled": false
   },
   "outputs": [
    {
     "data": {
      "image/png": "[encoded data removed]",
      "text/plain": [
       "<Figure size 432x288 with 1 Axes>"
      ]
     },
     "metadata": {
      "needs_background": "light"
     },
     "output_type": "display_data"
    }
   ],
   "source": [
    "plt.plot(avg_cost_func)\n",
    "plt.ylabel('Average J')\n",
    "plt.xlabel('Iteration number')\n",
    "plt.show()"
   ]
  },
  {
   "cell_type": "code",
   "execution_count": 111,
   "metadata": {},
   "outputs": [],
   "source": [
    "def predict_y(W, b, X, n_layers):\n",
    "  m = X.shape[0]\n",
    "  y = np.zeros(x.shape)\n",
    "  for i in range(m):\n",
    "    h, z = feed_forward(X[i, :], W, b)\n",
    "    y[i] = h[n_layers]\n",
    "  return y\n",
    "\n",
    "from sklearn.metrics import accuracy_score\n",
    "y_pred = predict_y(W, b, x, 3)\n",
    "#accuracy_score(y, predict_y) * 100|"
   ]
  },
  {
   "cell_type": "code",
   "execution_count": 124,
   "metadata": {},
   "outputs": [
    {
     "data": {
      "text/plain": [
       "array([[0.01321016, 0.98687074]])"
      ]
     },
     "execution_count": 124,
     "metadata": {},
     "output_type": "execute_result"
    }
   ],
   "source": [
    "y_pred"
   ]
  }
 ],
 "metadata": {
  "kernelspec": {
   "display_name": "Python 3",
   "language": "python",
   "name": "python3"
  },
  "language_info": {
   "codemirror_mode": {
    "name": "ipython",
    "version": 3
   },
   "file_extension": ".py",
   "mimetype": "text/x-python",
   "name": "python",
   "nbconvert_exporter": "python",
   "pygments_lexer": "ipython3",
   "version": "3.7.1"
  }
 },
 "nbformat": 4,
 "nbformat_minor": 2
}
